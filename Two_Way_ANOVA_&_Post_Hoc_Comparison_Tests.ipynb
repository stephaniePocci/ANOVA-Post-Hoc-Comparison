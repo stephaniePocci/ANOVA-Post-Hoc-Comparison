{
  "cells": [
    {
      "cell_type": "markdown",
      "metadata": {
        "id": "view-in-github",
        "colab_type": "text"
      },
      "source": [
        "<a href=\"https://colab.research.google.com/github/stephaniePocci/ANOVA-Post-Hoc-Comparison/blob/main/Two_Way_ANOVA_%26_Post_Hoc_Comparison_Tests.ipynb\" target=\"_parent\"><img src=\"https://colab.research.google.com/assets/colab-badge.svg\" alt=\"Open In Colab\"/></a>"
      ]
    },
    {
      "cell_type": "markdown",
      "source": [
        "# Two-Way ANOVA Test"
      ],
      "metadata": {
        "id": "1p6xxriUal8x"
      }
    },
    {
      "cell_type": "code",
      "source": [
        "import statsmodels.formula.api as sm\n",
        "import statsmodels.api as sm_api\n",
        "\n",
        "# Example data (replace with your actual data)\n",
        "# Make sure your data is in a Pandas DataFrame\n",
        "# and the columns are named appropriately.\n",
        "import pandas as pd\n",
        "data = {'Method': ['Amazon', 'Amazon', 'Amazon', 'Amazon', 'Amazon', 'Amazon', 'Amazon', 'Amazon', 'Amazon', 'Amazon', 'Target', 'Target', 'Target', 'Target', 'Target', 'Target', 'Target', 'Target', 'Target', 'Target'],\n",
        "        'AgeGroup': ['Younger', 'Younger', 'Older', 'Younger', 'Older', 'Younger', 'Older', 'Younger', 'Older', 'Younger', 'Younger', 'Younger', 'Older', 'Younger', 'Older', 'Younger', 'Older', 'Younger', 'Older', 'Younger'],\n",
        "        'Score': [7, 11, 20, 12, 10, 20, 22, 12, 13, 12, 7, 12, 28, 15, 24, 35, 31, 21, 18, 20]}\n",
        "df = pd.DataFrame(data)\n",
        "\n",
        "\n",
        "# Perform the two-way ANOVA test\n",
        "model = sm.ols('Score ~ C(Method) + C(AgeGroup) + C(Method):C(AgeGroup)', data=df).fit()\n",
        "anova_table = sm_api.stats.anova_lm(model, typ=2)\n",
        "\n",
        "# Mean Aquare\n",
        "anova_table['mean_sq'] = anova_table['sum_sq'] / anova_table['df']\n",
        "\n",
        "# sum_sq - sum of squares to measure deviation of data from mean\n",
        "# df - degrees of freedom to represent independent pieces of info to estimate parameter\n",
        "# F - F-Value to assess vriance between group means (null hypothesis)\n",
        "# mean_sq - mean square to represent average variance within each group\n",
        "# lambda - measures the effect size\n",
        "# PR(>F) - p-value indicates the probability of observating same data (<0.05 we reject null hypothesis)\n",
        "print(anova_table)\n"
      ],
      "metadata": {
        "id": "Ucma_DaZasos",
        "outputId": "761b3aa3-0e08-4e2d-b069-8c7d2d01e814",
        "colab": {
          "base_uri": "https://localhost:8080/"
        }
      },
      "execution_count": null,
      "outputs": [
        {
          "output_type": "stream",
          "name": "stdout",
          "text": [
            "                           sum_sq    df         F    PR(>F)     mean_sq\n",
            "C(Method)              259.200000   1.0  5.543150  0.031660  259.200000\n",
            "C(AgeGroup)            140.833333   1.0  3.011807  0.101876  140.833333\n",
            "C(Method):C(AgeGroup)   10.800000   1.0  0.230965  0.637315   10.800000\n",
            "Residual               748.166667  16.0       NaN       NaN   46.760417\n"
          ]
        }
      ]
    },
    {
      "cell_type": "code",
      "source": [
        "# Calculate lambda for each factor\n",
        "def calculate_lambda(anova_table, factor):\n",
        "    \"\"\"Calculates lambda (effect size) for a given factor.\n",
        "    \"\"\"\n",
        "    ss_factor = anova_table.loc[factor, 'sum_sq']\n",
        "    ss_total = anova_table['sum_sq'].sum()\n",
        "    lambda_value = ss_factor / ss_total\n",
        "    return lambda_value\n",
        "\n",
        "\n",
        "anova_table['lambda'] = anova_table.index.map(lambda factor: calculate_lambda(anova_table, factor))\n",
        "print(anova_table)"
      ],
      "metadata": {
        "id": "x5Xc0677iQH4",
        "outputId": "0e92e68a-e3b0-4667-e03b-3fa76bab2b33",
        "colab": {
          "base_uri": "https://localhost:8080/"
        }
      },
      "execution_count": null,
      "outputs": [
        {
          "output_type": "stream",
          "name": "stdout",
          "text": [
            "                           sum_sq    df         F    PR(>F)     mean_sq  \\\n",
            "C(Method)              259.200000   1.0  5.543150  0.031660  259.200000   \n",
            "C(AgeGroup)            140.833333   1.0  3.011807  0.101876  140.833333   \n",
            "C(Method):C(AgeGroup)   10.800000   1.0  0.230965  0.637315   10.800000   \n",
            "Residual               748.166667  16.0       NaN       NaN   46.760417   \n",
            "\n",
            "                         lambda  \n",
            "C(Method)              0.223641  \n",
            "C(AgeGroup)            0.121513  \n",
            "C(Method):C(AgeGroup)  0.009318  \n",
            "Residual               0.645528  \n"
          ]
        }
      ]
    },
    {
      "source": [
        "import pandas as pd\n",
        "import scipy.stats as stats\n",
        "\n",
        "# Your existing data loading code\n",
        "data = {'Method': ['Amazon', 'Amazon', 'Amazon', 'Amazon', 'Amazon', 'Amazon', 'Amazon', 'Amazon', 'Amazon', 'Amazon', 'Target', 'Target', 'Target', 'Target', 'Target', 'Target', 'Target', 'Target', 'Target', 'Target'],\n",
        "        'AgeGroup': ['Younger', 'Younger', 'Older', 'Younger', 'Older', 'Younger', 'Older', 'Younger', 'Older', 'Younger', 'Younger', 'Younger', 'Older', 'Younger', 'Older', 'Younger', 'Older', 'Younger', 'Older', 'Younger'],\n",
        "        'Score': [7, 11, 20, 12, 10, 20, 22, 12, 13, 12, 7, 12, 28, 15, 24, 35, 31, 21, 18, 20]}\n",
        "df = pd.DataFrame(data)\n",
        "\n",
        "# Create a new column 'Group' by combining 'Method' and 'AgeGroup'\n",
        "df['Group'] = [m + '_' + a for m, a in zip(df['Method'], df['AgeGroup'])]\n",
        "\n",
        "# Perform Kruskal-Wallis test on both groups combined\n",
        "groups = df['Group'].unique()\n",
        "data_for_kruskal = [df['Score'][df['Group'] == g] for g in groups]\n",
        "h_statistic, p_value = stats.kruskal(*data_for_kruskal)\n",
        "\n",
        "# h-stat quantifies variance in ranks between groups\n",
        "print(f\"H-statistic: {h_statistic}\")\n",
        "print(f\"P-value: {p_value}\")\n",
        "\n",
        "# p value is insignificant if < 0.05"
      ],
      "cell_type": "code",
      "metadata": {
        "colab": {
          "base_uri": "https://localhost:8080/"
        },
        "id": "QeXleCZJtZmT",
        "outputId": "b23d7bb4-7d44-4e78-9091-07f6a6ea54d6"
      },
      "execution_count": null,
      "outputs": [
        {
          "output_type": "stream",
          "name": "stdout",
          "text": [
            "H-statistic: 6.882382762991127\n",
            "P-value: 0.07574263435728143\n"
          ]
        }
      ]
    },
    {
      "source": [
        "import pandas as pd\n",
        "import scipy.stats as stats\n",
        "\n",
        "# Your existing data loading code\n",
        "\n",
        "# Kruskal-Wallis test for Method\n",
        "h_statistic_method, p_value_method = stats.kruskal(\n",
        "    df['Score'][df['Method'] == 'Amazon'],\n",
        "    df['Score'][df['Method'] == 'Target']\n",
        ")\n",
        "print(f\"Method - H-statistic: {h_statistic_method}\")\n",
        "print(f\"Method - P-value: {p_value_method}\")\n",
        "\n",
        "# Kruskal-Wallis test for AgeGroup\n",
        "h_statistic_agegroup, p_value_agegroup = stats.kruskal(\n",
        "    df['Score'][df['AgeGroup'] == 'Younger'],\n",
        "    df['Score'][df['AgeGroup'] == 'Older']\n",
        ")\n",
        "print(f\"AgeGroup - H-statistic: {h_statistic_agegroup}\")\n",
        "print(f\"AgeGroup - P-value: {p_value_agegroup}\")\n",
        "\n",
        "# p value is insignificant if < 0.05"
      ],
      "cell_type": "code",
      "metadata": {
        "colab": {
          "base_uri": "https://localhost:8080/"
        },
        "id": "K3FBEheZt_cJ",
        "outputId": "9ac54a87-f0aa-4021-df24-99d27b606ce0"
      },
      "execution_count": null,
      "outputs": [
        {
          "output_type": "stream",
          "name": "stdout",
          "text": [
            "Method - H-statistic: 3.9069201520912493\n",
            "Method - P-value: 0.04808764647392965\n",
            "AgeGroup - H-statistic: 2.913814955640049\n",
            "AgeGroup - P-value: 0.0878239058947686\n"
          ]
        }
      ]
    }
  ],
  "metadata": {
    "colab": {
      "toc_visible": true,
      "provenance": [],
      "include_colab_link": true
    },
    "kernelspec": {
      "display_name": "Python 3",
      "name": "python3"
    }
  },
  "nbformat": 4,
  "nbformat_minor": 0
}